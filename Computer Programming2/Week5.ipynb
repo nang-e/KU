{
 "cells": [
  {
   "cell_type": "code",
   "execution_count": 13,
   "metadata": {},
   "outputs": [
    {
     "name": "stdout",
     "output_type": "stream",
     "text": [
      "500원 개수:  37\n",
      "100원 개수:  4\n",
      "50원 개수:  0\n",
      "10원 개수:  3\n",
      "잔돈은 얼마?:  6\n"
     ]
    }
   ],
   "source": [
    "money=18936\n",
    "m500=money//500\n",
    "money%=500\n",
    "\n",
    "m100=money//100\n",
    "money%=100\n",
    "\n",
    "m50=money//50\n",
    "money%=50\n",
    "\n",
    "m10=money//10\n",
    "money%=10\n",
    "\n",
    "print('500원 개수: ',m500)\n",
    "print('100원 개수: ',m100)\n",
    "print('50원 개수: ',m50)\n",
    "print('10원 개수: ', m10)\n",
    "print('잔돈은 얼마?: ',money)\n"
   ]
  },
  {
   "cell_type": "code",
   "execution_count": 15,
   "metadata": {},
   "outputs": [
    {
     "name": "stdout",
     "output_type": "stream",
     "text": [
      "지폐로 교환할 돈은 얼마? 777777\n",
      "50000원짜리 ==> 15장\n",
      "10000원짜리 ==> 2장\n",
      "5000원짜리 ==> 1장\n",
      "1000원짜리 ==> 2장\n",
      "지폐로 바꾸지 못한 돈 ==> 777원\n"
     ]
    }
   ],
   "source": [
    "money=int(input('지폐로 교환할 돈은 얼마? '))\n",
    "\n",
    "m50000=money//50000\n",
    "money%=50000\n",
    "\n",
    "m10000=money//10000\n",
    "money%=10000\n",
    "\n",
    "m5000=money//5000\n",
    "money%=5000\n",
    "\n",
    "m1000=money//1000\n",
    "money%=1000\n",
    "\n",
    "print('%d원짜리 ==> %d장'%(50000,m50000))\n",
    "print('%d원짜리 ==> %d장'%(10000,m10000))\n",
    "print('%d원짜리 ==> %d장'%(5000,m5000))\n",
    "print('%d원짜리 ==> %d장'%(1000,m1000))\n",
    "print('지폐로 바꾸지 못한 돈 ==> %d원'%(money))\n"
   ]
  },
  {
   "cell_type": "code",
   "execution_count": 30,
   "metadata": {},
   "outputs": [
    {
     "name": "stdout",
     "output_type": "stream",
     "text": [
      "보여용\n"
     ]
    }
   ],
   "source": [
    "a=99\n",
    "(a>100) and (a<200) ; (a>100) or (a<200) ; not(a==100)\n",
    "if(1234):\n",
    "    print('보여용')\n",
    "if(0):\n",
    "    print('안보여용')"
   ]
  },
  {
   "cell_type": "code",
   "execution_count": 46,
   "metadata": {},
   "outputs": [
    {
     "ename": "Terminator",
     "evalue": "",
     "output_type": "error",
     "traceback": [
      "\u001b[1;31m---------------------------------------------------------------------------\u001b[0m",
      "\u001b[1;31mTerminator\u001b[0m                                Traceback (most recent call last)",
      "\u001b[1;32m<ipython-input-46-a764261d8301>\u001b[0m in \u001b[0;36m<module>\u001b[1;34m\u001b[0m\n\u001b[0;32m      5\u001b[0m \u001b[0mr\u001b[0m\u001b[1;33m,\u001b[0m\u001b[0mg\u001b[0m\u001b[1;33m,\u001b[0m\u001b[0mb\u001b[0m\u001b[1;33m,\u001b[0m\u001b[0mangle\u001b[0m\u001b[1;33m,\u001b[0m\u001b[0mdist\u001b[0m\u001b[1;33m,\u001b[0m\u001b[0mcurx\u001b[0m\u001b[1;33m,\u001b[0m\u001b[0mcury\u001b[0m\u001b[1;33m=\u001b[0m\u001b[1;33m[\u001b[0m\u001b[1;36m0\u001b[0m\u001b[1;33m]\u001b[0m\u001b[1;33m*\u001b[0m\u001b[1;36m7\u001b[0m\u001b[1;33m\u001b[0m\u001b[1;33m\u001b[0m\u001b[0m\n\u001b[0;32m      6\u001b[0m \u001b[1;33m\u001b[0m\u001b[0m\n\u001b[1;32m----> 7\u001b[1;33m \u001b[0mturtle\u001b[0m\u001b[1;33m.\u001b[0m\u001b[0mtitle\u001b[0m\u001b[1;33m(\u001b[0m\u001b[1;34m'거북이 맘대로 쏘다니기'\u001b[0m\u001b[1;33m)\u001b[0m\u001b[1;33m\u001b[0m\u001b[1;33m\u001b[0m\u001b[0m\n\u001b[0m\u001b[0;32m      8\u001b[0m \u001b[0mturtle\u001b[0m\u001b[1;33m.\u001b[0m\u001b[0mshape\u001b[0m\u001b[1;33m(\u001b[0m\u001b[1;34m'turtle'\u001b[0m\u001b[1;33m)\u001b[0m\u001b[1;33m\u001b[0m\u001b[1;33m\u001b[0m\u001b[0m\n\u001b[0;32m      9\u001b[0m \u001b[0mturtle\u001b[0m\u001b[1;33m.\u001b[0m\u001b[0mpensize\u001b[0m\u001b[1;33m(\u001b[0m\u001b[0mpsize\u001b[0m\u001b[1;33m)\u001b[0m\u001b[1;33m\u001b[0m\u001b[1;33m\u001b[0m\u001b[0m\n",
      "\u001b[1;32mc:\\users\\user\\documents\\python\\lib\\turtle.py\u001b[0m in \u001b[0;36mtitle\u001b[1;34m(titlestring)\u001b[0m\n",
      "\u001b[1;31mTerminator\u001b[0m: "
     ]
    }
   ],
   "source": [
    "import turtle\n",
    "import random\n",
    "\n",
    "swidth,sheight,psize,exitcount=300,300,3,0\n",
    "r,g,b,angle,dist,curx,cury=[0]*7\n",
    "\n",
    "turtle.title('거북이 맘대로 쏘다니기')\n",
    "turtle.shape('turtle')\n",
    "turtle.pensize(psize)\n",
    "turtle.setup(width=swidth+30,height=sheight+30)\n",
    "turtle.screensize(10,10)\n",
    "\n",
    "while True:\n",
    "    r=random.random()\n",
    "    g=random.random()\n",
    "    b=random.random()\n",
    "    turtle.pencolor((r,g,b))\n",
    "    \n",
    "    angle=random.randrange(0,360)\n",
    "    dist=random.randrange(1,100)\n",
    "    turtle.left(angle)\n",
    "    turtle.forward(dist)\n",
    "    curx=turtle.xcor()\n",
    "    cury=turtle.ycor()\n",
    "    \n",
    "    if (-swidth/2<=curx and curx <=swidth/2) and (-sheight/2 <=cury and cury<=sheight/2):\n",
    "        pass\n",
    "    else:\n",
    "        turtle.penup()\n",
    "        turtle.goto(0,0)\n",
    "        turtle.pendown()\n",
    "        \n",
    "        exitcount+=1\n",
    "        if exitcount>=5:\n",
    "            break\n",
    "            \n",
    "turtle.done()"
   ]
  },
  {
   "cell_type": "code",
   "execution_count": 49,
   "metadata": {},
   "outputs": [
    {
     "data": {
      "text/plain": [
       "72"
      ]
     },
     "execution_count": 49,
     "metadata": {},
     "output_type": "execute_result"
    }
   ],
   "source": [
    "123&456"
   ]
  }
 ],
 "metadata": {
  "kernelspec": {
   "display_name": "Python 3",
   "language": "python",
   "name": "python3"
  },
  "language_info": {
   "codemirror_mode": {
    "name": "ipython",
    "version": 3
   },
   "file_extension": ".py",
   "mimetype": "text/x-python",
   "name": "python",
   "nbconvert_exporter": "python",
   "pygments_lexer": "ipython3",
   "version": "3.6.8"
  }
 },
 "nbformat": 4,
 "nbformat_minor": 4
}
