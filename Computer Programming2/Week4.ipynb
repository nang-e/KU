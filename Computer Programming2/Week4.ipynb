{
 "cells": [
  {
   "cell_type": "code",
   "execution_count": 3,
   "metadata": {},
   "outputs": [
    {
     "data": {
      "text/plain": [
       "16777473"
      ]
     },
     "execution_count": 3,
     "metadata": {},
     "output_type": "execute_result"
    }
   ],
   "source": [
    "0b1000101\n",
    "0x1000101"
   ]
  },
  {
   "cell_type": "code",
   "execution_count": 14,
   "metadata": {},
   "outputs": [
    {
     "name": "stdout",
     "output_type": "stream",
     "text": [
      "입력 진수 결정(16/10/8/2) : 2\n",
      "값 입력 101011\n",
      "16진수=> 0x2b\n",
      "10진수=> 43\n",
      "8진수=> 0o53\n",
      "2진수=> 0b101011\n"
     ]
    }
   ],
   "source": [
    "a=int(input('입력 진수 결정(16/10/8/2) : '))\n",
    "b=input('값 입력 ')\n",
    "if a==16:\n",
    "    num=int(b,16)\n",
    "if a==10:\n",
    "    num=int(b,10)\n",
    "if a==8:\n",
    "    num=int(b,8)\n",
    "if a==2:\n",
    "    num=int(b,2)\n",
    "\n",
    "print('16진수=>',hex(num))\n",
    "print('10진수=>',num)\n",
    "print('8진수=>',oct(num))\n",
    "print('2진수=>',bin(num))"
   ]
  },
  {
   "cell_type": "code",
   "execution_count": 1,
   "metadata": {},
   "outputs": [
    {
     "name": "stdout",
     "output_type": "stream",
     "text": [
      "입력 진수 결정(16/10/8/2) : 9\n",
      "16,10,8,2 숫자 중 하나만 입력하세요.\n",
      "값 입력 13\n"
     ]
    },
    {
     "ename": "NameError",
     "evalue": "name 'num10' is not defined",
     "output_type": "error",
     "traceback": [
      "\u001b[1;31m---------------------------------------------------------------------------\u001b[0m",
      "\u001b[1;31mNameError\u001b[0m                                 Traceback (most recent call last)",
      "\u001b[1;32m<ipython-input-1-82b1748fa3ec>\u001b[0m in \u001b[0;36m<module>\u001b[1;34m\u001b[0m\n\u001b[0;32m     16\u001b[0m \u001b[1;33m\u001b[0m\u001b[0m\n\u001b[0;32m     17\u001b[0m \u001b[1;33m\u001b[0m\u001b[0m\n\u001b[1;32m---> 18\u001b[1;33m \u001b[0mprint\u001b[0m\u001b[1;33m(\u001b[0m\u001b[1;34m'16진수=>'\u001b[0m\u001b[1;33m,\u001b[0m\u001b[0mhex\u001b[0m\u001b[1;33m(\u001b[0m\u001b[0mnum10\u001b[0m\u001b[1;33m)\u001b[0m\u001b[1;33m)\u001b[0m\u001b[1;33m\u001b[0m\u001b[1;33m\u001b[0m\u001b[0m\n\u001b[0m\u001b[0;32m     19\u001b[0m \u001b[0mprint\u001b[0m\u001b[1;33m(\u001b[0m\u001b[1;34m'10진수=>'\u001b[0m\u001b[1;33m,\u001b[0m\u001b[0mnum10\u001b[0m\u001b[1;33m)\u001b[0m\u001b[1;33m\u001b[0m\u001b[1;33m\u001b[0m\u001b[0m\n\u001b[0;32m     20\u001b[0m \u001b[0mprint\u001b[0m\u001b[1;33m(\u001b[0m\u001b[1;34m'8진수=>'\u001b[0m\u001b[1;33m,\u001b[0m\u001b[0moct\u001b[0m\u001b[1;33m(\u001b[0m\u001b[0mnum10\u001b[0m\u001b[1;33m)\u001b[0m\u001b[1;33m)\u001b[0m\u001b[1;33m\u001b[0m\u001b[1;33m\u001b[0m\u001b[0m\n",
      "\u001b[1;31mNameError\u001b[0m: name 'num10' is not defined"
     ]
    }
   ],
   "source": [
    "a=int(input('입력 진수 결정(16/10/8/2) : '))\n",
    "\n",
    "if a!=16 and a!=10 and a!=8 and a!=2:\n",
    "    print('16,10,8,2 숫자 중 하나만 입력하세요.')\n",
    "    exit()\n",
    "    \n",
    "b=input('값 입력 ')\n",
    "if a==16:\n",
    "    num10=int(b,16)\n",
    "if a==10:\n",
    "    num10=int(b,10)\n",
    "if a==8:\n",
    "    num10=int(b,8)\n",
    "if a==2:\n",
    "    num10=int(b,2)\n",
    "\n",
    "    \n",
    "print('16진수=>',hex(num10))\n",
    "print('10진수=>',num10)\n",
    "print('8진수=>',oct(num10))\n",
    "print('2진수=>',bin(num10))"
   ]
  }
 ],
 "metadata": {
  "kernelspec": {
   "display_name": "Python 3",
   "language": "python",
   "name": "python3"
  },
  "language_info": {
   "codemirror_mode": {
    "name": "ipython",
    "version": 3
   },
   "file_extension": ".py",
   "mimetype": "text/x-python",
   "name": "python",
   "nbconvert_exporter": "python",
   "pygments_lexer": "ipython3",
   "version": "3.6.8"
  }
 },
 "nbformat": 4,
 "nbformat_minor": 4
}
