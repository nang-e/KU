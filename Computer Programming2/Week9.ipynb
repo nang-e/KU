{
 "cells": [
  {
   "cell_type": "code",
   "execution_count": 2,
   "metadata": {},
   "outputs": [
    {
     "name": "stdout",
     "output_type": "stream",
     "text": [
      "문자열을 입력하세요--> 안녕하세요 오늘은 2020년 12월 17일입니다.\n",
      "숫자 제거--> 안녕하세요 오늘은 년 월 일입니다.\n"
     ]
    }
   ],
   "source": [
    "a,b='',''\n",
    "a=input('문자열을 입력하세요--> ')\n",
    "for x in a:\n",
    "    if x.isdigit():\n",
    "        continue\n",
    "    b+=x\n",
    "    \n",
    "print('숫자 제거--> '+b)"
   ]
  }
 ],
 "metadata": {
  "kernelspec": {
   "display_name": "Python 3",
   "language": "python",
   "name": "python3"
  },
  "language_info": {
   "codemirror_mode": {
    "name": "ipython",
    "version": 3
   },
   "file_extension": ".py",
   "mimetype": "text/x-python",
   "name": "python",
   "nbconvert_exporter": "python",
   "pygments_lexer": "ipython3",
   "version": "3.6.8"
  }
 },
 "nbformat": 4,
 "nbformat_minor": 4
}
