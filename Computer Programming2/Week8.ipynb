{
 "cells": [
  {
   "cell_type": "code",
   "execution_count": 24,
   "metadata": {},
   "outputs": [
    {
     "name": "stdout",
     "output_type": "stream",
     "text": [
      "124.5\n"
     ]
    }
   ],
   "source": [
    "print('%5.1f'%124.49)"
   ]
  },
  {
   "cell_type": "code",
   "execution_count": 10,
   "metadata": {},
   "outputs": [
    {
     "name": "stdout",
     "output_type": "stream",
     "text": [
      "하하하\n",
      "300\n",
      "200+100\n",
      "300\n",
      "1\n",
      "2\n",
      "1 + 2 = 12\n"
     ]
    },
    {
     "data": {
      "text/plain": [
       "27"
      ]
     },
     "execution_count": 10,
     "metadata": {},
     "output_type": "execute_result"
    }
   ],
   "source": [
    "print('하하하')\n",
    "print(200+100)\n",
    "print('200+100')\n",
    "print(int('200')+100)\n",
    "var1=input()\n",
    "var2=input()\n",
    "re=var1+var2\n",
    "print(var1,'+',var2,'=',re)\n",
    "pow(3,3)"
   ]
  },
  {
   "cell_type": "code",
   "execution_count": 20,
   "metadata": {},
   "outputs": [
    {
     "name": "stdout",
     "output_type": "stream",
     "text": [
      "교환할 돈은 얼마?: 7777\n",
      "500원짜리==> 15\n",
      "100원짜리==> 2\n",
      "50원짜리==> 1\n",
      "10원짜리==> 2\n",
      "바꾸지 못한 잔돈 ==> 7\n"
     ]
    },
    {
     "data": {
      "text/plain": [
       "False"
      ]
     },
     "execution_count": 20,
     "metadata": {},
     "output_type": "execute_result"
    }
   ],
   "source": [
    "a=int(input('교환할 돈은 얼마?: '))\n",
    "c500=a//500\n",
    "a%=500\n",
    "c100=a//100\n",
    "a%=100\n",
    "c50=a//50\n",
    "a%=50\n",
    "c10=a//10\n",
    "a%=10\n",
    "print('500원짜리==> %d'%c500)\n",
    "print('100원짜리==> %d'%c100)\n",
    "print('50원짜리==> %d'%c50)\n",
    "print('10원짜리==> %d'%c10)\n",
    "print('바꾸지 못한 잔돈 ==> %d'%a)\n",
    "a>100\n"
   ]
  },
  {
   "cell_type": "code",
   "execution_count": 62,
   "metadata": {},
   "outputs": [
    {
     "name": "stdout",
     "output_type": "stream",
     "text": [
      "입력 진수 결정(2,8,10,16): 12\n",
      "값 입력: 1\n",
      "16진수=>   0x0\n",
      "10진수=>   0\n",
      "8진수=>   0o0\n",
      "2진수=>   0b0\n"
     ]
    }
   ],
   "source": [
    "num=0\n",
    "a=int(input('입력 진수 결정(2,8,10,16): '))\n",
    "b=input('값 입력: ')\n",
    "if a==16:\n",
    "    num=int(b,16)\n",
    "if a==10:\n",
    "    num=int(b,10)\n",
    "if a==8:\n",
    "    num=int(b,8)\n",
    "if a==2:\n",
    "    num=int(b,2)\n",
    "print('16진수=>  ',hex(num))\n",
    "print('10진수=>  ',num)\n",
    "print('8진수=>  ',oct(num))\n",
    "print('2진수=>  ',bin(num))\n"
   ]
  },
  {
   "cell_type": "code",
   "execution_count": 1,
   "metadata": {},
   "outputs": [
    {
     "name": "stdout",
     "output_type": "stream",
     "text": [
      "입력 진수 결정(16/10/8/2): 16\n",
      "값 입력: 1\n"
     ]
    }
   ],
   "source": [
    "a=int(input('입력 진수 결정(16/10/8/2): '))\n",
    "b=input('값 입력: ')\n",
    "if a==16:\n",
    "    num=int(b,16)\n",
    "if a==10:\n",
    "    num=int(b,10)\n",
    "if a==8:\n",
    "    num=int(b,8)\n",
    "if a==2:\n",
    "    num=int(b,2)\n",
    "if a!=16 and a!=10 and a!=8 and a!=2:\n",
    "    print('16,10,8,2 숫자 중 하나만 입력하세요')\n",
    "    exit()\n",
    "    "
   ]
  },
  {
   "cell_type": "code",
   "execution_count": 5,
   "metadata": {},
   "outputs": [
    {
     "name": "stdout",
     "output_type": "stream",
     "text": [
      "연도를 입력하세요: 2020\n",
      "2020는 윤년입니다\n"
     ]
    }
   ],
   "source": [
    "b=0\n",
    "a=int(input('연도를 입력하세요: '))\n",
    "if (a%4==0 and a%100!=0) or (a%400==0):\n",
    "    print('%d는 윤년입니다'%a)\n",
    "else:\n",
    "    print('%d는 윤년이 아닙니다'%a)\n",
    "    "
   ]
  },
  {
   "cell_type": "code",
   "execution_count": 9,
   "metadata": {},
   "outputs": [
    {
     "name": "stdout",
     "output_type": "stream",
     "text": [
      "점수: 200\n",
      "합격\n"
     ]
    }
   ],
   "source": [
    "score=int(input('점수: '))\n",
    "if score>=60:\n",
    "    res='합격'\n",
    "elif score>=30:\n",
    "    res='그냥그저'\n",
    "else:\n",
    "    res='불합격!'\n",
    "print(res)\n"
   ]
  },
  {
   "cell_type": "code",
   "execution_count": 12,
   "metadata": {},
   "outputs": [
    {
     "name": "stdout",
     "output_type": "stream",
     "text": [
      "true\n"
     ]
    }
   ],
   "source": [
    "fru=['딸기','귤']\n",
    "if '딸기' in fru:\n",
    "    print('true')"
   ]
  },
  {
   "cell_type": "code",
   "execution_count": 16,
   "metadata": {},
   "outputs": [
    {
     "name": "stdout",
     "output_type": "stream",
     "text": [
      "[8, 8, 1, 4, 6, 8, 7, 9, 8, 5]\n",
      "0는 리스트에 없다\n",
      "2는 리스트에 없다\n",
      "3는 리스트에 없다\n"
     ]
    }
   ],
   "source": [
    "import random\n",
    "num=[]\n",
    "for i in range(0,10):\n",
    "    num.append(random.randrange(0,10))\n",
    "print(num)\n",
    "for i in range(0,10):\n",
    "    if i not in num:\n",
    "        print('%d는 리스트에 없다'%i)"
   ]
  },
  {
   "cell_type": "code",
   "execution_count": 19,
   "metadata": {},
   "outputs": [
    {
     "name": "stdout",
     "output_type": "stream",
     "text": [
      "불합격 괴락x\n"
     ]
    }
   ],
   "source": [
    "score=55\n",
    "if score>=60:\n",
    "    print('합격입니다')\n",
    "elif score>=40:\n",
    "    print('불합격 괴락x')\n",
    "else:\n",
    "    print('불,괴')"
   ]
  },
  {
   "cell_type": "code",
   "execution_count": 23,
   "metadata": {},
   "outputs": [
    {
     "name": "stdout",
     "output_type": "stream",
     "text": [
      "6\n",
      "3\n",
      "a\n"
     ]
    }
   ],
   "source": [
    "import random\n",
    "a=int(random.randrange(1,7))\n",
    "b=int(random.randrange(1,7))\n",
    "print(a)\n",
    "print(b)\n",
    "if a==b:\n",
    "    print('비김')\n",
    "elif a>b:\n",
    "    print('a')\n",
    "else:\n",
    "    print('b')"
   ]
  },
  {
   "cell_type": "code",
   "execution_count": 30,
   "metadata": {},
   "outputs": [
    {
     "name": "stdout",
     "output_type": "stream",
     "text": [
      "1이나 2중에 입력: 1\n",
      "수식을 입력하세요: 300\n",
      "300의 결과는 300.000000입니다.\n"
     ]
    }
   ],
   "source": [
    "a,b,c,d,e=0,0,0,0,0\n",
    "sel=int(input('1이나 2중에 입력: '))\n",
    "if sel==1:\n",
    "    a=input('수식을 입력하세요: ')\n",
    "    b=eval(a)\n",
    "    print('%s의 결과는 %f입니다.'%(a,b))\n",
    "if sel==2:\n",
    "    c=int(input('첫번째 숫자:'))\n",
    "    d=int(input('두번째 숫자:'))\n",
    "    for i in range(c,d+1):\n",
    "        e+=i\n",
    "    print('%d+...+%d=%d이다'%(c,d,e))\n"
   ]
  },
  {
   "cell_type": "code",
   "execution_count": 32,
   "metadata": {},
   "outputs": [
    {
     "name": "stdout",
     "output_type": "stream",
     "text": [
      "시작값:1\n",
      "끝값:30\n",
      "증가값:1\n",
      "1부터 30까지의 합계: 465\n"
     ]
    }
   ],
   "source": [
    "a=int(input('시작값:'))\n",
    "b=int(input('끝값:'))\n",
    "c=int(input('증가값:'))\n",
    "num=0\n",
    "for i in range(a,b+1,c):\n",
    "    num+=i\n",
    "print('%d부터 %d까지의 합계: %d'%(a,b,num))"
   ]
  },
  {
   "cell_type": "code",
   "execution_count": 41,
   "metadata": {},
   "outputs": [
    {
     "name": "stdout",
     "output_type": "stream",
     "text": [
      "***숫자를 입력하세요: 100\n",
      "소수아님\n"
     ]
    }
   ],
   "source": [
    "a=int(input('***숫자를 입력하세요: '))\n",
    "b=0\n",
    "for i in range(2,a):\n",
    "    if a%i==0:\n",
    "        b=False\n",
    "if b==False:\n",
    "    print('소수아님')\n",
    "else:\n",
    "    print('소수')"
   ]
  },
  {
   "cell_type": "code",
   "execution_count": 53,
   "metadata": {},
   "outputs": [
    {
     "name": "stdout",
     "output_type": "stream",
     "text": [
      "10100\n"
     ]
    }
   ],
   "source": [
    "aa=[0]*100\n",
    "for j in range(0,100):\n",
    "    aa[j]=j+1\n",
    "for i in range(0,100):\n",
    "    hap=hap+aa[i]\n",
    "print(hap)"
   ]
  },
  {
   "cell_type": "code",
   "execution_count": 58,
   "metadata": {},
   "outputs": [
    {
     "name": "stdout",
     "output_type": "stream",
     "text": [
      "[0, 3, 6, 9, 12, 15, 18, 21, 24, 27, 30, 33, 36, 39, 42, 45, 48, 51, 54, 57, 60, 63, 66, 69, 72, 75, 78, 81, 84, 87, 90, 93, 96, 99, 102, 105, 108, 111, 114, 117, 120, 123, 126, 129, 132, 135, 138, 141, 144, 147, 150, 153, 156, 159, 162, 165, 168, 171, 174, 177, 180, 183, 186, 189, 192, 195, 198, 201, 204, 207, 210, 213, 216, 219, 222, 225, 228, 231, 234, 237, 240, 243, 246, 249, 252, 255, 258, 261, 264, 267, 270, 273, 276, 279, 282, 285, 288, 291, 294, 297]\n",
      "[297, 294, 291, 288, 285, 282, 279, 276, 273, 270, 267, 264, 261, 258, 255, 252, 249, 246, 243, 240, 237, 234, 231, 228, 225, 222, 219, 216, 213, 210, 207, 204, 201, 198, 195, 192, 189, 186, 183, 180, 177, 174, 171, 168, 165, 162, 159, 156, 153, 150, 147, 144, 141, 138, 135, 132, 129, 126, 123, 120, 117, 114, 111, 108, 105, 102, 99, 96, 93, 90, 87, 84, 81, 78, 75, 72, 69, 66, 63, 60, 57, 54, 51, 48, 45, 42, 39, 36, 33, 30, 27, 24, 21, 18, 15, 12, 9, 6, 3, 0]\n"
     ]
    }
   ],
   "source": [
    "aa,bb,value=[],[],0\n",
    "for i in range(0,100):\n",
    "    aa.append(value)\n",
    "    value+=3\n",
    "print(aa)\n",
    "for j in range(0,100):\n",
    "    bb.append(aa[99-j])\n",
    "print(bb)\n"
   ]
  },
  {
   "cell_type": "code",
   "execution_count": 61,
   "metadata": {},
   "outputs": [
    {
     "name": "stdout",
     "output_type": "stream",
     "text": [
      "b[0]에는 597가, b[199]에는 0가 입력된다.\n"
     ]
    }
   ],
   "source": [
    "a,b,value=[],[],0\n",
    "for i in range(0,200):\n",
    "    a.append(value)\n",
    "    value+=3\n",
    "for j in range(0,200):\n",
    "    b.append(a[199-j])\n",
    "print('b[0]에는 %d가, b[199]에는 %d가 입력된다.'%(b[0],b[199]))"
   ]
  },
  {
   "cell_type": "code",
   "execution_count": 78,
   "metadata": {},
   "outputs": [
    {
     "data": {
      "text/plain": [
       "False"
      ]
     },
     "execution_count": 78,
     "metadata": {},
     "output_type": "execute_result"
    }
   ],
   "source": [
    "a={'이름':'김나연','학과':'통계학과','연락처':'01049297304'}\n",
    "a['나이']=21\n",
    "a['나이']='곧 22'\n",
    "a\n",
    "del(a['나이'])\n",
    "a\n",
    "a.items()\n",
    "a=['귤','사과','참외','머머머포도']\n",
    "'참외' in a\n",
    "'무무무' in a\n"
   ]
  },
  {
   "cell_type": "code",
   "execution_count": 85,
   "metadata": {},
   "outputs": [
    {
     "name": "stdout",
     "output_type": "stream",
     "text": [
      "이름=>나연\n",
      "나이=>21\n",
      "학과=>통계학과\n"
     ]
    }
   ],
   "source": [
    "t={}\n",
    "t['이름']='나연'\n",
    "t['나이']='21'\n",
    "t['학과']='통계학과'\n",
    "len(t)\n",
    "for i in t.keys():\n",
    "    print('%s=>%s'%(i,t[i]))\n",
    "    "
   ]
  },
  {
   "cell_type": "code",
   "execution_count": 90,
   "metadata": {},
   "outputs": [
    {
     "name": "stdout",
     "output_type": "stream",
     "text": [
      "55\n",
      "735\n"
     ]
    }
   ],
   "source": [
    "hap=0\n",
    "for i in range(1,11):\n",
    "    hap+=i\n",
    "print(hap)\n",
    "hap=0\n",
    "for i in range(0,101,7):\n",
    "    hap+=i\n",
    "print(hap)\n"
   ]
  },
  {
   "cell_type": "code",
   "execution_count": 96,
   "metadata": {},
   "outputs": [
    {
     "name": "stdout",
     "output_type": "stream",
     "text": [
      "#2단\n",
      "2 X 1 = 2\n",
      "2 X 2 = 4\n",
      "2 X 3 = 6\n",
      "2 X 4 = 8\n",
      "2 X 5 = 10\n",
      "2 X 6 = 12\n",
      "2 X 7 = 14\n",
      "2 X 8 = 16\n",
      "2 X 9 = 18\n",
      "#3단\n",
      "3 X 1 = 3\n",
      "3 X 2 = 6\n",
      "3 X 3 = 9\n",
      "3 X 4 = 12\n",
      "3 X 5 = 15\n",
      "3 X 6 = 18\n",
      "3 X 7 = 21\n",
      "3 X 8 = 24\n",
      "3 X 9 = 27\n",
      "#4단\n",
      "4 X 1 = 4\n",
      "4 X 2 = 8\n",
      "4 X 3 = 12\n",
      "4 X 4 = 16\n",
      "4 X 5 = 20\n",
      "4 X 6 = 24\n",
      "4 X 7 = 28\n",
      "4 X 8 = 32\n",
      "4 X 9 = 36\n",
      "#5단\n",
      "5 X 1 = 5\n",
      "5 X 2 = 10\n",
      "5 X 3 = 15\n",
      "5 X 4 = 20\n",
      "5 X 5 = 25\n",
      "5 X 6 = 30\n",
      "5 X 7 = 35\n",
      "5 X 8 = 40\n",
      "5 X 9 = 45\n",
      "#6단\n",
      "6 X 1 = 6\n",
      "6 X 2 = 12\n",
      "6 X 3 = 18\n",
      "6 X 4 = 24\n",
      "6 X 5 = 30\n",
      "6 X 6 = 36\n",
      "6 X 7 = 42\n",
      "6 X 8 = 48\n",
      "6 X 9 = 54\n",
      "#7단\n",
      "7 X 1 = 7\n",
      "7 X 2 = 14\n",
      "7 X 3 = 21\n",
      "7 X 4 = 28\n",
      "7 X 5 = 35\n",
      "7 X 6 = 42\n",
      "7 X 7 = 49\n",
      "7 X 8 = 56\n",
      "7 X 9 = 63\n",
      "#8단\n",
      "8 X 1 = 8\n",
      "8 X 2 = 16\n",
      "8 X 3 = 24\n",
      "8 X 4 = 32\n",
      "8 X 5 = 40\n",
      "8 X 6 = 48\n",
      "8 X 7 = 56\n",
      "8 X 8 = 64\n",
      "8 X 9 = 72\n",
      "#9단\n",
      "9 X 1 = 9\n",
      "9 X 2 = 18\n",
      "9 X 3 = 27\n",
      "9 X 4 = 36\n",
      "9 X 5 = 45\n",
      "9 X 6 = 54\n",
      "9 X 7 = 63\n",
      "9 X 8 = 72\n",
      "9 X 9 = 81\n"
     ]
    }
   ],
   "source": [
    "a,b,c=0,0,0\n",
    "for i in range(2,10):\n",
    "    print('#%d단'%i)\n",
    "    for j in range(1,10):\n",
    "        print('%d X %d = %d'%(i,j,i*j))\n",
    "    "
   ]
  },
  {
   "cell_type": "code",
   "execution_count": 102,
   "metadata": {},
   "outputs": [
    {
     "name": "stdout",
     "output_type": "stream",
     "text": [
      "63\n"
     ]
    }
   ],
   "source": [
    "i,hap=1,0\n",
    "for i in range(1,1001,2):\n",
    "    hap+=i\n",
    "    if hap>1000:\n",
    "        break\n",
    "print(i)"
   ]
  },
  {
   "cell_type": "code",
   "execution_count": 107,
   "metadata": {},
   "outputs": [
    {
     "name": "stdout",
     "output_type": "stream",
     "text": [
      "시프트할 숫자는? 50\n",
      "출력할 횟수는? 3\n",
      "50 << 0 = 50\n",
      "50 << 1 = 100\n",
      "50 << 2 = 200\n",
      "50 << 3 = 400\n"
     ]
    }
   ],
   "source": [
    "re,i=0,0\n",
    "a=int(input('시프트할 숫자는? '))\n",
    "b=int(input('출력할 횟수는? '))\n",
    "for i in range(0,b+1):\n",
    "    re=a<<i\n",
    "    print('%d << %d = %d'%(a,i,re))"
   ]
  },
  {
   "cell_type": "code",
   "execution_count": 118,
   "metadata": {},
   "outputs": [
    {
     "name": "stdout",
     "output_type": "stream",
     "text": [
      "  0   3   6   9  12 \n",
      " 15  18  21  24  27 \n",
      " 30  33  36  39  42 \n",
      " 45  48  51  54  57 \n"
     ]
    }
   ],
   "source": [
    "a,b,c=[],[],0\n",
    "for i in range(0,4):\n",
    "    for j in range(0,5):\n",
    "        a.append(c)\n",
    "        c+=3\n",
    "    b.append(a)\n",
    "    a=[]\n",
    "for i in range(0,4):\n",
    "    for j in range(0,5):\n",
    "        print('%3d'%b[i][j],end=' ')\n",
    "    print('')\n"
   ]
  },
  {
   "cell_type": "code",
   "execution_count": 122,
   "metadata": {},
   "outputs": [
    {
     "name": "stdout",
     "output_type": "stream",
     "text": [
      "([1, 2, 3], [4, 5, 6], [7, 8, 9])\n"
     ]
    }
   ],
   "source": [
    "t=()\n",
    "k=1\n",
    "l=list(t)\n",
    "p=[]\n",
    "for i in range(0,3):\n",
    "    for j in range(0,3):\n",
    "        l.append(k)\n",
    "        k+=1\n",
    "    p.append(l)\n",
    "    l=[]\n",
    "t=tuple(p)\n",
    "print(t)\n"
   ]
  },
  {
   "cell_type": "code",
   "execution_count": 128,
   "metadata": {},
   "outputs": [
    {
     "name": "stdout",
     "output_type": "stream",
     "text": [
      "['떡볶이', '라면', '치킨', '삼겹살', '짜장면']중 가장 좋아하는 음식은?ㅏ\n"
     ]
    }
   ],
   "source": [
    "food={'떡볶이':'오뎅','라면':'김치','치킨':'치킨무','삼겹살':'소주','짜장면':'단무지'}\n",
    "while True:\n",
    "    a=input(str(list(food.keys()))+'중 가장 좋아하는 음식은?')\n",
    "    if a in food:\n",
    "        print('%s와 잘맞는 음식은 %s이다'%(a,food.get(a)))\n",
    "    else:\n",
    "        break\n",
    "\n"
   ]
  },
  {
   "cell_type": "code",
   "execution_count": 132,
   "metadata": {},
   "outputs": [
    {
     "name": "stdout",
     "output_type": "stream",
     "text": [
      "24\n",
      "100\n",
      "9\n",
      "90\n",
      "97\n",
      "6\n",
      "86\n",
      "5\n",
      "74\n",
      "54\n",
      "79\n",
      "14\n"
     ]
    }
   ],
   "source": [
    "a=0\n",
    "import random\n",
    "while True:\n",
    "    a=random.randrange(0,101)\n",
    "    print(a)\n",
    "    if a%7==0:\n",
    "        break\n",
    "    "
   ]
  },
  {
   "cell_type": "code",
   "execution_count": 137,
   "metadata": {},
   "outputs": [
    {
     "name": "stdout",
     "output_type": "stream",
     "text": [
      "[0, 3, 6, 9, 12, 15, 18, 21, 24, 27, 30, 33, 36, 39, 42, 45, 48, 51, 54, 57, 60, 63, 66, 69, 72, 75, 78, 81, 84, 87, 90, 93, 96, 99]"
     ]
    }
   ],
   "source": [
    "a=[num for num in range(0,100) if num%3==0]\n",
    "print(a,end='')"
   ]
  },
  {
   "cell_type": "code",
   "execution_count": 142,
   "metadata": {},
   "outputs": [
    {
     "name": "stdout",
     "output_type": "stream",
     "text": [
      "[('김', '달'), ('밥', '이'), ('배', '하'), ('불', '루')]\n"
     ]
    },
    {
     "data": {
      "text/plain": [
       "list"
      ]
     },
     "execution_count": 142,
     "metadata": {},
     "output_type": "execute_result"
    }
   ],
   "source": [
    "a=['김','밥','배','불']\n",
    "b=['달','이','하','루']\n",
    "l=list(zip(a,b))\n",
    "print(l)\n",
    "a=type(l)"
   ]
  },
  {
   "cell_type": "code",
   "execution_count": 150,
   "metadata": {},
   "outputs": [
    {
     "name": "stdout",
     "output_type": "stream",
     "text": [
      "자동차1\n",
      "자동차2\n",
      "자동차3\n"
     ]
    },
    {
     "data": {
      "text/plain": [
       "['자동차1', '자동차2']"
      ]
     },
     "execution_count": 150,
     "metadata": {},
     "output_type": "execute_result"
    }
   ],
   "source": [
    "car=[]\n",
    "i,top=0,0\n",
    "for i in range(1,4):\n",
    "    car.append('자동차%d'%i)\n",
    "    print('자동차%d'%i)\n",
    "    top+=1\n",
    "top-=1\n",
    "car.pop()\n",
    "car\n",
    "    \n"
   ]
  }
 ],
 "metadata": {
  "kernelspec": {
   "display_name": "Python 3",
   "language": "python",
   "name": "python3"
  },
  "language_info": {
   "codemirror_mode": {
    "name": "ipython",
    "version": 3
   },
   "file_extension": ".py",
   "mimetype": "text/x-python",
   "name": "python",
   "nbconvert_exporter": "python",
   "pygments_lexer": "ipython3",
   "version": "3.6.8"
  }
 },
 "nbformat": 4,
 "nbformat_minor": 4
}
