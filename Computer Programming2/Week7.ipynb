{
 "cells": [
  {
   "cell_type": "code",
   "execution_count": 5,
   "metadata": {},
   "outputs": [
    {
     "name": "stdout",
     "output_type": "stream",
     "text": [
      "55\n"
     ]
    }
   ],
   "source": [
    "#for문을 활용한 합계 구하기\n",
    "#파이썬은 별도의 변수 선언을 해줄 필요가 없지만, 이 경우에는 해줘야한다. \n",
    "#hap자체가 존재하지 않는데 hap=hap+i를 수행할 수는 없기 때문이다.\n",
    "\n",
    "hap=0 \n",
    "for i in range(1,11):\n",
    "    hap+=i\n",
    "print(hap)"
   ]
  },
  {
   "cell_type": "code",
   "execution_count": 7,
   "metadata": {},
   "outputs": [
    {
     "name": "stdout",
     "output_type": "stream",
     "text": [
      "0과 100사이에 있는 7의 배수 합계: 735\n"
     ]
    }
   ],
   "source": [
    "#0과 100사이에 있는 7의 배수 합계 구하기\n",
    "i,ex6_1=0,0\n",
    "for i in range(0,101,7):\n",
    "    ex6_1+=i\n",
    "print('0과 100사이에 있는 7의 배수 합계: %d'%ex6_1)"
   ]
  },
  {
   "cell_type": "code",
   "execution_count": 10,
   "metadata": {},
   "outputs": [
    {
     "name": "stdout",
     "output_type": "stream",
     "text": [
      "단을 입력하세요: 11\n",
      "11X1=11\n",
      "11X2=22\n",
      "11X3=33\n",
      "11X4=44\n",
      "11X5=55\n",
      "11X6=66\n",
      "11X7=77\n",
      "11X8=88\n",
      "11X9=99\n"
     ]
    }
   ],
   "source": [
    "#사용자가 입력한 숫자의 단에서 구구단을 출력하기\n",
    "dan=int(input('단을 입력하세요: '))\n",
    "for i in range(1,10):\n",
    "    print('%dX%d=%d'%(dan,i,dan*i))"
   ]
  },
  {
   "cell_type": "code",
   "execution_count": 12,
   "metadata": {},
   "outputs": [
    {
     "name": "stdout",
     "output_type": "stream",
     "text": [
      "1 X 1 = 1\n",
      "1 X 2 = 2\n",
      "1 X 3 = 3\n",
      "1 X 4 = 4\n",
      "1 X 5 = 5\n",
      "1 X 6 = 6\n",
      "1 X 7 = 7\n",
      "1 X 8 = 8\n",
      "1 X 9 = 9\n",
      "2 X 1 = 2\n",
      "2 X 2 = 4\n",
      "2 X 3 = 6\n",
      "2 X 4 = 8\n",
      "2 X 5 = 10\n",
      "2 X 6 = 12\n",
      "2 X 7 = 14\n",
      "2 X 8 = 16\n",
      "2 X 9 = 18\n",
      "3 X 1 = 3\n",
      "3 X 2 = 6\n",
      "3 X 3 = 9\n",
      "3 X 4 = 12\n",
      "3 X 5 = 15\n",
      "3 X 6 = 18\n",
      "3 X 7 = 21\n",
      "3 X 8 = 24\n",
      "3 X 9 = 27\n",
      "4 X 1 = 4\n",
      "4 X 2 = 8\n",
      "4 X 3 = 12\n",
      "4 X 4 = 16\n",
      "4 X 5 = 20\n",
      "4 X 6 = 24\n",
      "4 X 7 = 28\n",
      "4 X 8 = 32\n",
      "4 X 9 = 36\n",
      "5 X 1 = 5\n",
      "5 X 2 = 10\n",
      "5 X 3 = 15\n",
      "5 X 4 = 20\n",
      "5 X 5 = 25\n",
      "5 X 6 = 30\n",
      "5 X 7 = 35\n",
      "5 X 8 = 40\n",
      "5 X 9 = 45\n",
      "6 X 1 = 6\n",
      "6 X 2 = 12\n",
      "6 X 3 = 18\n",
      "6 X 4 = 24\n",
      "6 X 5 = 30\n",
      "6 X 6 = 36\n",
      "6 X 7 = 42\n",
      "6 X 8 = 48\n",
      "6 X 9 = 54\n",
      "7 X 1 = 7\n",
      "7 X 2 = 14\n",
      "7 X 3 = 21\n",
      "7 X 4 = 28\n",
      "7 X 5 = 35\n",
      "7 X 6 = 42\n",
      "7 X 7 = 49\n",
      "7 X 8 = 56\n",
      "7 X 9 = 63\n",
      "8 X 1 = 8\n",
      "8 X 2 = 16\n",
      "8 X 3 = 24\n",
      "8 X 4 = 32\n",
      "8 X 5 = 40\n",
      "8 X 6 = 48\n",
      "8 X 7 = 56\n",
      "8 X 8 = 64\n",
      "8 X 9 = 72\n",
      "9 X 1 = 9\n",
      "9 X 2 = 18\n",
      "9 X 3 = 27\n",
      "9 X 4 = 36\n",
      "9 X 5 = 45\n",
      "9 X 6 = 54\n",
      "9 X 7 = 63\n",
      "9 X 8 = 72\n",
      "9 X 9 = 81\n"
     ]
    }
   ],
   "source": [
    "#중첩 for문을 이용해 1단부터 9단까지 구구단 출력하기\n",
    "i,j=0,0\n",
    "for i in range(1,10):\n",
    "    for j in range(1,10):\n",
    "        print('%d X %d = %d'%(i,j,i*j))\n"
   ]
  },
  {
   "cell_type": "code",
   "execution_count": 15,
   "metadata": {},
   "outputs": [
    {
     "name": "stdout",
     "output_type": "stream",
     "text": [
      "## 1단 ##\n",
      "1 X 1 = 1\n",
      "1 X 2 = 2\n",
      "1 X 3 = 3\n",
      "1 X 4 = 4\n",
      "1 X 5 = 5\n",
      "1 X 6 = 6\n",
      "1 X 7 = 7\n",
      "1 X 8 = 8\n",
      "1 X 9 = 9\n",
      "## 2단 ##\n",
      "2 X 1 = 2\n",
      "2 X 2 = 4\n",
      "2 X 3 = 6\n",
      "2 X 4 = 8\n",
      "2 X 5 = 10\n",
      "2 X 6 = 12\n",
      "2 X 7 = 14\n",
      "2 X 8 = 16\n",
      "2 X 9 = 18\n",
      "## 3단 ##\n",
      "3 X 1 = 3\n",
      "3 X 2 = 6\n",
      "3 X 3 = 9\n",
      "3 X 4 = 12\n",
      "3 X 5 = 15\n",
      "3 X 6 = 18\n",
      "3 X 7 = 21\n",
      "3 X 8 = 24\n",
      "3 X 9 = 27\n",
      "## 4단 ##\n",
      "4 X 1 = 4\n",
      "4 X 2 = 8\n",
      "4 X 3 = 12\n",
      "4 X 4 = 16\n",
      "4 X 5 = 20\n",
      "4 X 6 = 24\n",
      "4 X 7 = 28\n",
      "4 X 8 = 32\n",
      "4 X 9 = 36\n",
      "## 5단 ##\n",
      "5 X 1 = 5\n",
      "5 X 2 = 10\n",
      "5 X 3 = 15\n",
      "5 X 4 = 20\n",
      "5 X 5 = 25\n",
      "5 X 6 = 30\n",
      "5 X 7 = 35\n",
      "5 X 8 = 40\n",
      "5 X 9 = 45\n",
      "## 6단 ##\n",
      "6 X 1 = 6\n",
      "6 X 2 = 12\n",
      "6 X 3 = 18\n",
      "6 X 4 = 24\n",
      "6 X 5 = 30\n",
      "6 X 6 = 36\n",
      "6 X 7 = 42\n",
      "6 X 8 = 48\n",
      "6 X 9 = 54\n",
      "## 7단 ##\n",
      "7 X 1 = 7\n",
      "7 X 2 = 14\n",
      "7 X 3 = 21\n",
      "7 X 4 = 28\n",
      "7 X 5 = 35\n",
      "7 X 6 = 42\n",
      "7 X 7 = 49\n",
      "7 X 8 = 56\n",
      "7 X 9 = 63\n",
      "## 8단 ##\n",
      "8 X 1 = 8\n",
      "8 X 2 = 16\n",
      "8 X 3 = 24\n",
      "8 X 4 = 32\n",
      "8 X 5 = 40\n",
      "8 X 6 = 48\n",
      "8 X 7 = 56\n",
      "8 X 8 = 64\n",
      "8 X 9 = 72\n",
      "## 9단 ##\n",
      "9 X 1 = 9\n",
      "9 X 2 = 18\n",
      "9 X 3 = 27\n",
      "9 X 4 = 36\n",
      "9 X 5 = 45\n",
      "9 X 6 = 54\n",
      "9 X 7 = 63\n",
      "9 X 8 = 72\n",
      "9 X 9 = 81\n"
     ]
    }
   ],
   "source": [
    "#1단부터 9단까지 구구단에서 각 단의 제목이 출력되도록 수정하기\n",
    "i,j=0,0\n",
    "for i in range(1,10):\n",
    "    print('## %d단 ##'%i)\n",
    "    for j in range(1,10):\n",
    "          print('%d X %d = %d'%(i,j,i*j))\n",
    "        "
   ]
  },
  {
   "cell_type": "code",
   "execution_count": 16,
   "metadata": {},
   "outputs": [],
   "source": [
    "#while문 형식\n",
    "#변수=시작값\n",
    "#while 변수<끝값:\n",
    "#    이 부분을 반복\n",
    "#    변수+=증가값"
   ]
  },
  {
   "cell_type": "code",
   "execution_count": 19,
   "metadata": {},
   "outputs": [
    {
     "name": "stdout",
     "output_type": "stream",
     "text": [
      "55\n"
     ]
    }
   ],
   "source": [
    "#while문으로 1부터 10까지 합계 구하기\n",
    "i,ex=0,0\n",
    "while i<11:\n",
    "    ex+=i\n",
    "    i+=1\n",
    "print(ex)"
   ]
  },
  {
   "cell_type": "code",
   "execution_count": 29,
   "metadata": {},
   "outputs": [
    {
     "name": "stdout",
     "output_type": "stream",
     "text": [
      "0과 100사이에 있는 짝수의 합: 2550\n"
     ]
    }
   ],
   "source": [
    "#while문으로 0과 100사이의 짝수 합계 구하기\n",
    "i,ex=0,0\n",
    "while i<100+1:\n",
    "    ex+=i\n",
    "    i+=2\n",
    "print('0과 100사이에 있는 짝수의 합: %d'%ex)"
   ]
  },
  {
   "cell_type": "code",
   "execution_count": 27,
   "metadata": {},
   "outputs": [
    {
     "name": "stdout",
     "output_type": "stream",
     "text": [
      "시작값을 입력하세요: 2\n",
      "끝값을 입력하세요: 300\n",
      "증가값을 입력하세요: 3\n",
      "15050\n"
     ]
    }
   ],
   "source": [
    "#while문으로 사용자가 시작값,끝값,증가값을 입력하여 합계 구하도록 하기\n",
    "ex6_5=0\n",
    "num1,num2,num3=0,0,0\n",
    "num1=int(input('시작값을 입력하세요: '))\n",
    "num2=int(input('끝값을 입력하세요: '))\n",
    "num3=int(input('증가값을 입력하세요: '))\n",
    "i=num1\n",
    "while i<num2+1:\n",
    "    ex6_5+=i\n",
    "    i+=num3\n",
    "print(ex6_5)"
   ]
  },
  {
   "cell_type": "code",
   "execution_count": 32,
   "metadata": {},
   "outputs": [
    {
     "name": "stdout",
     "output_type": "stream",
     "text": [
      "더할 첫번째 수 입력: 0\n",
      "0을 입력하여 탈출했습니다\n"
     ]
    }
   ],
   "source": [
    "hap,a,b=0,0,0\n",
    "while True:\n",
    "    a=int(input('더할 첫번째 수 입력: '))\n",
    "    if a==0:\n",
    "        break\n",
    "    b=int(input('더할 두번쨰 수 입력: '))\n",
    "    hap=a+b\n",
    "    print('%d+%d=%d'%(a,b,hap))\n",
    "print('0을 입력하여 탈출했습니다')"
   ]
  },
  {
   "cell_type": "code",
   "execution_count": 35,
   "metadata": {},
   "outputs": [
    {
     "name": "stdout",
     "output_type": "stream",
     "text": [
      "1부터 100까지 합계에서 최초로 1000이 넘게하는 숫자: 45\n"
     ]
    }
   ],
   "source": [
    "cumsum,i=0,0\n",
    "for i in range(1,100):\n",
    "    cumsum+=i\n",
    "    if cumsum>=1000:\n",
    "        break\n",
    "print('1부터 100까지 합계에서 최초로 1000이 넘게하는 숫자: %d'%i)"
   ]
  },
  {
   "cell_type": "code",
   "execution_count": 39,
   "metadata": {},
   "outputs": [
    {
     "name": "stdout",
     "output_type": "stream",
     "text": [
      "3367\n"
     ]
    }
   ],
   "source": [
    "#continue문을 활용하여 3의 배수를 제외한 1~100 합계 구하기\n",
    "i,ex_con=0,0\n",
    "for i in range(1,101):\n",
    "    if i%3==0:\n",
    "        continue\n",
    "    ex_con+=i\n",
    "print(ex_con)"
   ]
  },
  {
   "cell_type": "code",
   "execution_count": 43,
   "metadata": {},
   "outputs": [
    {
     "name": "stdout",
     "output_type": "stream",
     "text": [
      "63\n"
     ]
    }
   ],
   "source": [
    "#1과 1000사이의 홀수합계 중 최초로 합계가 1000이 넘어가는 숫자 구하기\n",
    "i,ex=0,0\n",
    "for i in range(1,1001,2):\n",
    "    ex+=i\n",
    "    if ex>1000:\n",
    "        break\n",
    "print(i)"
   ]
  },
  {
   "cell_type": "code",
   "execution_count": 50,
   "metadata": {},
   "outputs": [
    {
     "name": "stdout",
     "output_type": "stream",
     "text": [
      "    ★\n",
      "   ★★★\n",
      "  ★★★★★\n",
      " ★★★★★★★\n",
      "★★★★★★★★★\n",
      " ★★★★★★★\n",
      "  ★★★★★\n",
      "   ★★★\n",
      "    ★\n"
     ]
    }
   ],
   "source": [
    "#다이아몬드 만들기\n",
    "i,k=0,0\n",
    "while i<9:\n",
    "    if i<5:\n",
    "        k=0\n",
    "        while k<4-i:\n",
    "            print(' ',end='')\n",
    "            k+=1\n",
    "        k=0\n",
    "        while k<i*2+1:\n",
    "            print('\\u2605',end='')\n",
    "            k+=1\n",
    "    else:\n",
    "        k=0\n",
    "        while k<i-4:\n",
    "            print(' ',end='')\n",
    "            k+=1\n",
    "        k=0\n",
    "        while k<(9-i)*2-1:\n",
    "            print('\\u2605',end='')\n",
    "            k+=1\n",
    "    print()\n",
    "    i+=1"
   ]
  }
 ],
 "metadata": {
  "kernelspec": {
   "display_name": "Python 3",
   "language": "python",
   "name": "python3"
  },
  "language_info": {
   "codemirror_mode": {
    "name": "ipython",
    "version": 3
   },
   "file_extension": ".py",
   "mimetype": "text/x-python",
   "name": "python",
   "nbconvert_exporter": "python",
   "pygments_lexer": "ipython3",
   "version": "3.6.8"
  }
 },
 "nbformat": 4,
 "nbformat_minor": 4
}
