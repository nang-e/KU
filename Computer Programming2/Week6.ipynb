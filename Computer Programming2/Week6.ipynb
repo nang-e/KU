{
 "cells": [
  {
   "cell_type": "code",
   "execution_count": 9,
   "metadata": {},
   "outputs": [
    {
     "name": "stdout",
     "output_type": "stream",
     "text": [
      "a는 100보다 작당\n",
      "우와 크다!\n",
      "100보다 크다\n",
      "참이면 이거 보인다\n",
      "프로그램 끝!\n"
     ]
    }
   ],
   "source": [
    "a=99\n",
    "if a<100:\n",
    "    print('a는 100보다 작당')\n",
    "\n",
    "#조건식이 참인 경우에 들여쓰기 한 문장만 실행함\n",
    "a=200\n",
    "if a<100:\n",
    "    print('100보다 작다')\n",
    "    print('거짓이니까 이거 안보인당!')\n",
    "else:\n",
    "    print('우와 크다!')\n",
    "    \n",
    "#if-else문장\n",
    "a=200\n",
    "if a<100:\n",
    "    print('100보다 작다')\n",
    "    print('참이면 이거 보인다')\n",
    "else:\n",
    "    print('100보다 크다')\n",
    "    print('참이면 이거 보인다')\n",
    "print('프로그램 끝!')"
   ]
  },
  {
   "cell_type": "code",
   "execution_count": 13,
   "metadata": {},
   "outputs": [
    {
     "name": "stdout",
     "output_type": "stream",
     "text": [
      "숫자를 입력하세용: 10341\n",
      "홀수다!\n"
     ]
    }
   ],
   "source": [
    "#입력한 숫자가 짝수인지 홀수인지 계산하는 예제\n",
    "ex123=int(input('숫자를 입력하세용: '))\n",
    "if ex123%2==0:\n",
    "    print('짝수다!')\n",
    "else:\n",
    "    print('홀수다!')\n"
   ]
  },
  {
   "cell_type": "code",
   "execution_count": 20,
   "metadata": {},
   "outputs": [
    {
     "name": "stdout",
     "output_type": "stream",
     "text": [
      "키를 입력하세용: 160\n",
      "너네 키는 거기서 거기얌\n"
     ]
    }
   ],
   "source": [
    "#중첩 if문\n",
    "a=int(input('키를 입력하세용: '))\n",
    "if a>=160:\n",
    "    if a>180:\n",
    "        print('우와 대빵 크다')\n",
    "    else:\n",
    "        print('너네 키는 거기서 거기얌')\n",
    "else:\n",
    "    print('키만 작은 난쟁이!')\n",
    "    "
   ]
  },
  {
   "cell_type": "code",
   "execution_count": 24,
   "metadata": {},
   "outputs": [
    {
     "name": "stdout",
     "output_type": "stream",
     "text": [
      "점수 입력: 89\n",
      "B\n"
     ]
    }
   ],
   "source": [
    "ex125=int(input('점수 입력: '))\n",
    "if ex125>=90:\n",
    "    print('A')\n",
    "else:\n",
    "    if ex125>=80:\n",
    "        print('B')\n",
    "    else:\n",
    "        if ex125>=70:\n",
    "            print('C')\n",
    "        else:\n",
    "            if ex125>=60:\n",
    "                print('D')\n",
    "            else:\n",
    "                print('F')\n",
    "        \n",
    "    "
   ]
  },
  {
   "cell_type": "code",
   "execution_count": 27,
   "metadata": {},
   "outputs": [
    {
     "name": "stdout",
     "output_type": "stream",
     "text": [
      "점수 입력: 85\n",
      "B+\n",
      "학점입니다.^^\n"
     ]
    }
   ],
   "source": [
    "ex127=int(input('점수 입력: '))\n",
    "if ex127>=95:\n",
    "    print('A+')\n",
    "elif ex127>=90:\n",
    "    print('A')\n",
    "elif ex127>=85:\n",
    "    print('B+')\n",
    "elif ex127>=80:\n",
    "    print('B0')\n",
    "elif ex127>=75:\n",
    "    print('C+')\n",
    "elif ex127>=70:\n",
    "    print('C-')\n",
    "elif ex127>=65:\n",
    "    print('D+')\n",
    "elif ex127>=60:\n",
    "    print('D-')\n",
    "else:\n",
    "    print('F')\n",
    "print('학점입니다.^^')"
   ]
  },
  {
   "cell_type": "code",
   "execution_count": 31,
   "metadata": {},
   "outputs": [
    {
     "name": "stdout",
     "output_type": "stream",
     "text": [
      "불합격\n"
     ]
    }
   ],
   "source": [
    "score=55\n",
    "res=''\n",
    "if score>=60:\n",
    "    res='합격'\n",
    "else:\n",
    "    res='불합격'\n",
    "print(res)\n",
    "\n",
    "jumsu=60\n",
    "res=''\n",
    "res='합격' if jumsu>=60 else '불합격'\n"
   ]
  },
  {
   "cell_type": "code",
   "execution_count": 36,
   "metadata": {},
   "outputs": [
    {
     "name": "stdout",
     "output_type": "stream",
     "text": [
      "['딸기', '사과', '배', '감']\n",
      "['딸기', '사과', '배', '감', '귤']\n",
      "포도없당\n"
     ]
    }
   ],
   "source": [
    "fr=['딸기','사과','배','감']\n",
    "print(fr)\n",
    "fr.append('귤') #리스트명.append(항목): 리스트에 항목을 추가할 때 사용하는 함수\n",
    "print(fr)\n",
    "if '포도' in fr:\n",
    "    print('포도있당')\n",
    "else:\n",
    "    print('포도없당')\n",
    "    "
   ]
  },
  {
   "cell_type": "code",
   "execution_count": 50,
   "metadata": {},
   "outputs": [
    {
     "name": "stdout",
     "output_type": "stream",
     "text": [
      "생성된 리스트 [0, 6, 0, 9, 1, 3, 4, 9, 7, 3]\n",
      "숫자2가 리스트에 없네요.\n",
      "숫자5가 리스트에 없네요.\n",
      "숫자8가 리스트에 없네요.\n"
     ]
    }
   ],
   "source": [
    "#리스트 안에 없는 숫자 찾아내기 예제\n",
    "import random\n",
    "numbers=[]\n",
    "for i in range(0,10):\n",
    "    numbers.append(random.randrange(0,10))\n",
    "print('생성된 리스트',numbers)\n",
    "\n",
    "for i in range(0,10):\n",
    "    if i not in numbers:\n",
    "        print('숫자%d가 리스트에 없네요.'%i)\n",
    "            "
   ]
  },
  {
   "cell_type": "code",
   "execution_count": 51,
   "metadata": {},
   "outputs": [
    {
     "name": "stdout",
     "output_type": "stream",
     "text": [
      "***숫자를 입력하세요: 13\n",
      "13는 소수입니다.\n"
     ]
    }
   ],
   "source": [
    "#132쪽 예제 selfstudy 5-3 소수인지 아닌지 판독하기\n",
    "#변수 선언 부분\n",
    "x=0\n",
    "res=True\n",
    "\n",
    "#메인 코드 부분\n",
    "x=int(input('***숫자를 입력하세요: '))\n",
    "for i in range(2,x):\n",
    "    if x%i==0:\n",
    "        res=False\n",
    "if res==True:\n",
    "    print('%d는 소수입니다.'%x)\n",
    "else:\n",
    "    print('%d는 소수가 아닙니다.'%x)\n",
    "    "
   ]
  },
  {
   "cell_type": "code",
   "execution_count": 55,
   "metadata": {},
   "outputs": [
    {
     "name": "stdout",
     "output_type": "stream",
     "text": [
      "***첫번째 숫자를 입력하세요: 1\n",
      "***두번째 숫자를 입력하세요: 100\n",
      "***더할 숫자를 입력하세요 3\n",
      "1717\n"
     ]
    }
   ],
   "source": [
    "#132쪽 예제 selfstudy 5-3 두 숫자 입력받고 두 숫자 사이 합계 구하기\n",
    "#변수 선언 부분\n",
    "a,b,c,d=0,0,0,0\n",
    "\n",
    "#메인 코드 부분\n",
    "a=int(input('***첫번째 숫자를 입력하세요: '))\n",
    "b=int(input('***두번째 숫자를 입력하세요: '))\n",
    "c=int(input('***더할 숫자를 입력하세요 '))\n",
    "for i in range(a,b+1,c):\n",
    "    d+=i\n",
    "print(d)"
   ]
  },
  {
   "cell_type": "code",
   "execution_count": 58,
   "metadata": {},
   "outputs": [
    {
     "name": "stdout",
     "output_type": "stream",
     "text": [
      "***숫자를 입력하세요: 29\n",
      "소수다\n"
     ]
    }
   ],
   "source": [
    "x=int(input('***숫자를 입력하세요: '))\n",
    "for i in range(2,x):\n",
    "    if x%i==0:\n",
    "        res=False\n",
    "if res==False:\n",
    "    print('소수가 아니다')\n",
    "else:\n",
    "    print('소수다')"
   ]
  },
  {
   "cell_type": "code",
   "execution_count": 65,
   "metadata": {},
   "outputs": [
    {
     "name": "stdout",
     "output_type": "stream",
     "text": [
      "a의 주사위 숫자는 2입니다.\n",
      "b의 주사위 숫자는 6입니다.\n",
      "b가 이겼습니다\n"
     ]
    }
   ],
   "source": [
    "#조건문 연습문제 7번 a가 이기거나 b가 이기거나 비기는 결과 나오는 코드\n",
    "a=2\n",
    "b=6\n",
    "print('a의 주사위 숫자는 %d입니다.'%a)\n",
    "print('b의 주사위 숫자는 %d입니다.'%b)\n",
    "if a>b:\n",
    "    print('a가 이겼습니다')\n",
    "elif a==b:\n",
    "    print('비겼습니다')\n",
    "else:\n",
    "    print('b가 이겼습니다')\n",
    "\n",
    "    "
   ]
  },
  {
   "cell_type": "code",
   "execution_count": 70,
   "metadata": {},
   "outputs": [
    {
     "name": "stdout",
     "output_type": "stream",
     "text": [
      "***시작 숫자를 입력하세요(2이상): 2\n",
      "***끝 숫자를 입력하세요: 11\n",
      "2부터 11까지 소수의 합은 151118477557입니다\n"
     ]
    }
   ],
   "source": [
    "#2이상의 두 정수를 입력받고 두 수 사이의 모드 소수의 합을 구하는 프로그램\n",
    "a=int(input('***시작 숫자를 입력하세요(2이상): '))\n",
    "b=int(input('***끝 숫자를 입력하세요: '))\n",
    "res=0\n",
    "for i in range(a,b):\n",
    "    for j in range(a,b+1):\n",
    "        if j%i==0:\n",
    "            break\n",
    "        else:\n",
    "            res+=res+j\n",
    "print('%d부터 %d까지 소수의 합은 %d입니다'%(a,b,res))"
   ]
  }
 ],
 "metadata": {
  "kernelspec": {
   "display_name": "Python 3",
   "language": "python",
   "name": "python3"
  },
  "language_info": {
   "codemirror_mode": {
    "name": "ipython",
    "version": 3
   },
   "file_extension": ".py",
   "mimetype": "text/x-python",
   "name": "python",
   "nbconvert_exporter": "python",
   "pygments_lexer": "ipython3",
   "version": "3.6.8"
  }
 },
 "nbformat": 4,
 "nbformat_minor": 4
}
